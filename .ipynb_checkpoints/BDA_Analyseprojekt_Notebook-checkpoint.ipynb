{
 "cells": [
  {
   "cell_type": "code",
   "execution_count": null,
   "id": "f5b1d7a9-1c26-4e98-9f20-1be303ada0ee",
   "metadata": {},
   "outputs": [],
   "source": [
    "import numpy as np\n",
    "import pandas as pd\n",
    "import scipy.stats as stats\n",
    "import matplotlib.pyplot as plt\n",
    "import seaborn as sns"
   ]
  },
  {
   "cell_type": "markdown",
   "id": "6c5ed115",
   "metadata": {},
   "source": [
    "1. Datensätze einspielen & prüfen.\n",
    "- Bei Datensatz: \"games_details.csv\" konnten die Datentypen nicht richtig eingelesen werden. --> wurden als \"object\" eingelesen\n",
    "- Aus diesem Grund wurden diese manuell übergeben --> auf \"string\""
   ]
  },
  {
   "cell_type": "code",
   "execution_count": null,
   "id": "396964b8-8f7f-4ac0-a1dd-a454013af689",
   "metadata": {},
   "outputs": [],
   "source": [
    "# NBA games data\n",
    "games = pd.read_csv(\"data/NBA games data/games.csv\", sep=',', decimal='.')\n",
    "games_details = pd.read_csv(\"data/NBA games data/games_details.csv\", sep=',', decimal='.', dtype= {\"TEAM_ABBREVIATION\": \"string\",\"TEAM_CITY\": \"string\", \"PLAYER_NAME\": \"string\", \"NICKNAME\": \"string\", \"START_POSITION\": \"string\", \"COMMENT\": \"string\"})\n",
    "players = pd.read_csv(\"data/NBA games data/players.csv\", sep=',', decimal='.')\n",
    "ranking = pd.read_csv(\"data/NBA games data/ranking.csv\", sep=',', decimal='.')\n",
    "teams = pd.read_csv(\"data/NBA games data/teams.csv\", sep=',', decimal='.')\n",
    "\n",
    "# NBA Player\n",
    "all_seasons = pd.read_csv(\"data/NBA games data/teams.csv\", sep=',', decimal='.')"
   ]
  },
  {
   "cell_type": "markdown",
   "id": "6dced2d9",
   "metadata": {},
   "source": [
    "1.1 Überprüfung aller Datentypen des jeweiligen Datensatzes"
   ]
  },
  {
   "cell_type": "code",
   "execution_count": null,
   "id": "4c5c5191",
   "metadata": {},
   "outputs": [],
   "source": [
    "games.dtypes"
   ]
  },
  {
   "cell_type": "markdown",
   "id": "91567907",
   "metadata": {},
   "source": [
    "Bedeutung der jeweiligen Spalten in der Datei \"games\":\n",
    "- GAME_DATE_EST\n",
    "    - Game's date\n",
    "\n",
    "\n",
    "- GAME_ID\n",
    "    - ID of the game\n",
    "\n",
    "\n",
    "- GAME_STATUS_TEXT\n",
    "    - Status : Final means that the is completed\n",
    "\n",
    "\n",
    "- HOME_TEAM_ID\n",
    "    - ID of the home team\n",
    "\n",
    "\n",
    "- VISITOR_TEAM_ID\n",
    "    - ID of the visitor team\n",
    "\n",
    "\n",
    "- SEASON\n",
    "    - Season when the game occured\n",
    "\n",
    "\n",
    "- TEAM_ID_home\n",
    "    - ID of the home team (dupplicate of HOME_TEAM_ID)\n",
    "\n",
    "\n",
    "- PTS_home\n",
    "    - Number of points scored by home team\n",
    "\n",
    "\n",
    "- FG_PCT_home\n",
    "    - Field Goal Percentage home team\n",
    "\n",
    "\n",
    "- FT_PCT_home\n",
    "    - Free Throw Percentage of the home team\n",
    "\n",
    "\n",
    "- FG3_PCT_home\n",
    "    - Three Point Percentageof the home team\n",
    "\n",
    "\n",
    "- AST_home\n",
    "    - Assists of the home team\n",
    "\n",
    "\n",
    "- REB_home\n",
    "    - Rebounds of the home team\n",
    "\n",
    "\n",
    "- TEAM_ID_away\n",
    "    - ID of the away team (dupplicate of VISITOR_TEAM_ID)\n",
    "\n",
    "\n",
    "- PTS_away\n",
    "    - Number of points scored by away team\n",
    "\n",
    "\n",
    "- FG_PCT_away\n",
    "    - Field Goal Percentage away team\n",
    "\n",
    "\n",
    "- FT_PCT_away\n",
    "    - Free Throw Percentage of the away team\n",
    "\n",
    "\n",
    "- FG3_PCT_away\n",
    "    - Three Point Percentage of the away team\n",
    "\n",
    "\n",
    "- AST_away\n",
    "    - Assists of the away team\n",
    "\n",
    "\n",
    "- REB_away\n",
    "    - Rebounds of the away team\n",
    "\n",
    "\n",
    "- HOME_TEAM_WINS\n",
    "    - If home team won the game"
   ]
  },
  {
   "cell_type": "code",
   "execution_count": null,
   "id": "48e8e485-9ea4-4b9d-9cf7-f674a94c3585",
   "metadata": {},
   "outputs": [],
   "source": [
    "games_details.dtypes"
   ]
  },
  {
   "cell_type": "code",
   "execution_count": null,
   "id": "06e61cc3",
   "metadata": {},
   "outputs": [],
   "source": [
    "players.dtypes"
   ]
  },
  {
   "cell_type": "code",
   "execution_count": null,
   "id": "8989f3df",
   "metadata": {},
   "outputs": [],
   "source": [
    "ranking.dtypes"
   ]
  },
  {
   "cell_type": "code",
   "execution_count": null,
   "id": "b158b351",
   "metadata": {},
   "outputs": [],
   "source": [
    "teams.dtypes"
   ]
  },
  {
   "cell_type": "code",
   "execution_count": null,
   "id": "25187d34",
   "metadata": {},
   "outputs": [],
   "source": [
    "all_seasons.dtypes"
   ]
  },
  {
   "cell_type": "markdown",
   "id": "0c5809f0",
   "metadata": {},
   "source": [
    "1.2 Überprüfung auf fehlende Werte"
   ]
  },
  {
   "cell_type": "code",
   "execution_count": null,
   "id": "09ed63e0-e79a-42d6-ab49-788ead6e6322",
   "metadata": {},
   "outputs": [],
   "source": [
    "# Überprüfung auf fehlende Werte\n",
    "missing_games_details = games_details.isnull().sum()\n",
    "missing_teams = teams.isnull().sum()\n",
    "missing_players = players.isnull().sum()\n",
    "missing_ranking = ranking.isnull().sum()\n",
    "missing_games = games.isnull().sum()\n",
    "    \n",
    "\n",
    "# Ausgabe der Spalten mit fehlenden Werten\n",
    "print(\"Anzahl der fehlenden Werte pro Spalte (Games Details):\")\n",
    "print(missing_games_details)\n",
    "\n",
    "print(\"\\nAnzahl der fehlenden Werte pro Spalte (Teams):\")\n",
    "print(missing_teams)\n",
    "\n",
    "print(\"\\nAnzahl der fehlenden Werte pro Spalte (Player):\")\n",
    "print(missing_players)\n",
    "\n",
    "print(\"\\nAnzahl der fehlenden Werte pro Spalte (Ranking):\")\n",
    "print(missing_ranking)\n",
    "\n",
    "print(\"\\nAnzahl der fehlenden Werte pro Spalte (Games):\")\n",
    "print(missing_teams)\n"
   ]
  },
  {
   "cell_type": "code",
   "execution_count": null,
   "id": "c20aadb0-8a57-43a7-9ff3-621b779a705e",
   "metadata": {},
   "outputs": [],
   "source": []
  },
  {
   "cell_type": "code",
   "execution_count": null,
   "id": "fad36793-ce0a-48c2-a5a0-433174a46be1",
   "metadata": {},
   "outputs": [],
   "source": [
    "# Auswahl aller Zeilen mit mindestens einem fehlenden Wert bei der Tabelle Games\n",
    "rows_missing_values_games = games[games.isnull().any(axis=1)]\n",
    "\n",
    "# Ausgabe der Zeilen mit fehlenden Werten\n",
    "print(\"Zeilen mit mindestens einem fehlenden Wert:\")\n",
    "print(rows_missing_values_games)\n"
   ]
  },
  {
   "cell_type": "code",
   "execution_count": null,
   "id": "ebc9dc60-c0a0-468e-b4b5-eb30d4d5fb23",
   "metadata": {},
   "outputs": [],
   "source": [
    "# Export der Zeilen mit fehlenden Werten in eine CSV-Datei zur manuellen Überprüfung\n",
    "rows_missing_values_games.to_csv('missing_values_rows_games.csv', index=False)\n"
   ]
  },
  {
   "cell_type": "markdown",
   "id": "49cc8b63",
   "metadata": {},
   "source": [
    "1.3 Ergänzung fehlender Werte"
   ]
  },
  {
   "cell_type": "code",
   "execution_count": null,
   "id": "310356e6-da0c-42ae-ba17-3668090f0e12",
   "metadata": {},
   "outputs": [],
   "source": [
    "# alle fehlenden Werte in games_details werden ersetzt durch:\n",
    "# für Start Position wird der Wert NaN angeben --> dytpe ist String\n",
    "games_details.loc[games_details[\"START_POSITION\"].isnull(),\"START_POSITION\"] = \"NaN\""
   ]
  },
  {
   "cell_type": "code",
   "execution_count": null,
   "id": "c397d394",
   "metadata": {},
   "outputs": [],
   "source": [
    "games_details.isnull().sum()"
   ]
  }
 ],
 "metadata": {
  "kernelspec": {
   "display_name": "Python 3 (ipykernel)",
   "language": "python",
   "name": "python3"
  },
  "language_info": {
   "codemirror_mode": {
    "name": "ipython",
    "version": 3
   },
   "file_extension": ".py",
   "mimetype": "text/x-python",
   "name": "python",
   "nbconvert_exporter": "python",
   "pygments_lexer": "ipython3",
   "version": "3.12.7"
  }
 },
 "nbformat": 4,
 "nbformat_minor": 5
}
