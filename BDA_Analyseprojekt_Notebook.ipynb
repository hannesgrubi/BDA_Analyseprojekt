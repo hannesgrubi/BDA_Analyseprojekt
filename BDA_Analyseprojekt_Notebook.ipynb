{
 "cells": [
  {
   "cell_type": "code",
   "execution_count": 2,
   "id": "f5b1d7a9-1c26-4e98-9f20-1be303ada0ee",
   "metadata": {},
   "outputs": [],
   "source": [
    "import numpy as np\n",
    "import pandas as pd\n",
    "import scipy.stats as stats\n",
    "import matplotlib.pyplot as plt\n",
    "import seaborn as sns"
   ]
  },
  {
   "cell_type": "markdown",
   "id": "6c5ed115",
   "metadata": {},
   "source": [
    "1. Datensätze einspielen & prüfen.\n",
    "- Bei Datensatz: \"games_details.csv\" konnten die Datentypen nicht richtig eingelesen werden. --> wurden als \"object\" eingelesen\n",
    "- Aus diesem Grund wurden diese manuell übergeben --> auf \"string\""
   ]
  },
  {
   "cell_type": "code",
   "execution_count": 3,
   "id": "396964b8-8f7f-4ac0-a1dd-a454013af689",
   "metadata": {},
   "outputs": [],
   "source": [
    "# NBA games data\n",
    "games = pd.read_csv(\"data/NBA games data/games.csv\", sep=',', decimal='.')\n",
    "games_details = pd.read_csv(\"data/NBA games data/games_details.csv\", sep=',', decimal='.', dtype= {\"TEAM_ABBREVIATION\": \"string\",\"TEAM_CITY\": \"string\", \"PLAYER_NAME\": \"string\", \"NICKNAME\": \"string\", \"START_POSITION\": \"string\", \"COMMENT\": \"string\"})\n",
    "players = pd.read_csv(\"data/NBA games data/players.csv\", sep=',', decimal='.')\n",
    "ranking = pd.read_csv(\"data/NBA games data/ranking.csv\", sep=',', decimal='.')\n",
    "teams = pd.read_csv(\"data/NBA games data/teams.csv\", sep=',', decimal='.')\n",
    "\n",
    "# NBA Player\n",
    "all_seasons = pd.read_csv(\"data/NBA games data/teams.csv\", sep=',', decimal='.')"
   ]
  },
  {
   "cell_type": "markdown",
   "id": "6dced2d9",
   "metadata": {},
   "source": [
    "1.1 Überprüfung aller Datentypen des jeweiligen Datensatzes"
   ]
  },
  {
   "cell_type": "code",
   "execution_count": 4,
   "id": "4c5c5191",
   "metadata": {},
   "outputs": [
    {
     "data": {
      "text/plain": [
       "GAME_DATE_EST        object\n",
       "GAME_ID               int64\n",
       "GAME_STATUS_TEXT     object\n",
       "HOME_TEAM_ID          int64\n",
       "VISITOR_TEAM_ID       int64\n",
       "SEASON                int64\n",
       "TEAM_ID_home          int64\n",
       "PTS_home            float64\n",
       "FG_PCT_home         float64\n",
       "FT_PCT_home         float64\n",
       "FG3_PCT_home        float64\n",
       "AST_home            float64\n",
       "REB_home            float64\n",
       "TEAM_ID_away          int64\n",
       "PTS_away            float64\n",
       "FG_PCT_away         float64\n",
       "FT_PCT_away         float64\n",
       "FG3_PCT_away        float64\n",
       "AST_away            float64\n",
       "REB_away            float64\n",
       "HOME_TEAM_WINS        int64\n",
       "dtype: object"
      ]
     },
     "execution_count": 4,
     "metadata": {},
     "output_type": "execute_result"
    }
   ],
   "source": [
    "games.dtypes"
   ]
  },
  {
   "cell_type": "markdown",
   "id": "91567907",
   "metadata": {},
   "source": [
    "Bedeutung der jeweiligen Spalten in der Datei \"games\":\n",
    "- GAME_DATE_EST\n",
    "    - Game's date\n",
    "\n",
    "\n",
    "- GAME_ID\n",
    "    - ID of the game\n",
    "\n",
    "\n",
    "- GAME_STATUS_TEXT\n",
    "    - Status : Final means that the is completed\n",
    "\n",
    "\n",
    "- HOME_TEAM_ID\n",
    "    - ID of the home team\n",
    "\n",
    "\n",
    "- VISITOR_TEAM_ID\n",
    "    - ID of the visitor team\n",
    "\n",
    "\n",
    "- SEASON\n",
    "    - Season when the game occured\n",
    "\n",
    "\n",
    "- TEAM_ID_home\n",
    "    - ID of the home team (dupplicate of HOME_TEAM_ID)\n",
    "\n",
    "\n",
    "- PTS_home\n",
    "    - Number of points scored by home team\n",
    "\n",
    "\n",
    "- FG_PCT_home\n",
    "    - Field Goal Percentage home team\n",
    "\n",
    "\n",
    "- FT_PCT_home\n",
    "    - Free Throw Percentage of the home team\n",
    "\n",
    "\n",
    "- FG3_PCT_home\n",
    "    - Three Point Percentageof the home team\n",
    "\n",
    "\n",
    "- AST_home\n",
    "    - Assists of the home team\n",
    "\n",
    "\n",
    "- REB_home\n",
    "    - Rebounds of the home team\n",
    "\n",
    "\n",
    "- TEAM_ID_away\n",
    "    - ID of the away team (dupplicate of VISITOR_TEAM_ID)\n",
    "\n",
    "\n",
    "- PTS_away\n",
    "    - Number of points scored by away team\n",
    "\n",
    "\n",
    "- FG_PCT_away\n",
    "    - Field Goal Percentage away team\n",
    "\n",
    "\n",
    "- FT_PCT_away\n",
    "    - Free Throw Percentage of the away team\n",
    "\n",
    "\n",
    "- FG3_PCT_away\n",
    "    - Three Point Percentage of the away team\n",
    "\n",
    "\n",
    "- AST_away\n",
    "    - Assists of the away team\n",
    "\n",
    "\n",
    "- REB_away\n",
    "    - Rebounds of the away team\n",
    "\n",
    "\n",
    "- HOME_TEAM_WINS\n",
    "    - If home team won the game"
   ]
  },
  {
   "cell_type": "code",
   "execution_count": 5,
   "id": "48e8e485-9ea4-4b9d-9cf7-f674a94c3585",
   "metadata": {},
   "outputs": [
    {
     "data": {
      "text/plain": [
       "GAME_ID                       int64\n",
       "TEAM_ID                       int64\n",
       "TEAM_ABBREVIATION    string[python]\n",
       "TEAM_CITY            string[python]\n",
       "PLAYER_ID                     int64\n",
       "PLAYER_NAME          string[python]\n",
       "NICKNAME             string[python]\n",
       "START_POSITION       string[python]\n",
       "COMMENT              string[python]\n",
       "MIN                          object\n",
       "FGM                         float64\n",
       "FGA                         float64\n",
       "FG_PCT                      float64\n",
       "FG3M                        float64\n",
       "FG3A                        float64\n",
       "FG3_PCT                     float64\n",
       "FTM                         float64\n",
       "FTA                         float64\n",
       "FT_PCT                      float64\n",
       "OREB                        float64\n",
       "DREB                        float64\n",
       "REB                         float64\n",
       "AST                         float64\n",
       "STL                         float64\n",
       "BLK                         float64\n",
       "TO                          float64\n",
       "PF                          float64\n",
       "PTS                         float64\n",
       "PLUS_MINUS                  float64\n",
       "dtype: object"
      ]
     },
     "execution_count": 5,
     "metadata": {},
     "output_type": "execute_result"
    }
   ],
   "source": [
    "games_details.dtypes"
   ]
  },
  {
   "cell_type": "code",
   "execution_count": 6,
   "id": "06e61cc3",
   "metadata": {},
   "outputs": [
    {
     "data": {
      "text/plain": [
       "PLAYER_NAME    object\n",
       "TEAM_ID         int64\n",
       "PLAYER_ID       int64\n",
       "SEASON          int64\n",
       "dtype: object"
      ]
     },
     "execution_count": 6,
     "metadata": {},
     "output_type": "execute_result"
    }
   ],
   "source": [
    "players.dtypes"
   ]
  },
  {
   "cell_type": "code",
   "execution_count": 7,
   "id": "8989f3df",
   "metadata": {},
   "outputs": [
    {
     "data": {
      "text/plain": [
       "TEAM_ID            int64\n",
       "LEAGUE_ID          int64\n",
       "SEASON_ID          int64\n",
       "STANDINGSDATE     object\n",
       "CONFERENCE        object\n",
       "TEAM              object\n",
       "G                  int64\n",
       "W                  int64\n",
       "L                  int64\n",
       "W_PCT            float64\n",
       "HOME_RECORD       object\n",
       "ROAD_RECORD       object\n",
       "RETURNTOPLAY     float64\n",
       "dtype: object"
      ]
     },
     "execution_count": 7,
     "metadata": {},
     "output_type": "execute_result"
    }
   ],
   "source": [
    "ranking.dtypes"
   ]
  },
  {
   "cell_type": "code",
   "execution_count": 8,
   "id": "b158b351",
   "metadata": {},
   "outputs": [
    {
     "data": {
      "text/plain": [
       "LEAGUE_ID               int64\n",
       "TEAM_ID                 int64\n",
       "MIN_YEAR                int64\n",
       "MAX_YEAR                int64\n",
       "ABBREVIATION           object\n",
       "NICKNAME               object\n",
       "YEARFOUNDED             int64\n",
       "CITY                   object\n",
       "ARENA                  object\n",
       "ARENACAPACITY         float64\n",
       "OWNER                  object\n",
       "GENERALMANAGER         object\n",
       "HEADCOACH              object\n",
       "DLEAGUEAFFILIATION     object\n",
       "dtype: object"
      ]
     },
     "execution_count": 8,
     "metadata": {},
     "output_type": "execute_result"
    }
   ],
   "source": [
    "teams.dtypes"
   ]
  },
  {
   "cell_type": "code",
   "execution_count": 9,
   "id": "25187d34",
   "metadata": {},
   "outputs": [
    {
     "data": {
      "text/plain": [
       "LEAGUE_ID               int64\n",
       "TEAM_ID                 int64\n",
       "MIN_YEAR                int64\n",
       "MAX_YEAR                int64\n",
       "ABBREVIATION           object\n",
       "NICKNAME               object\n",
       "YEARFOUNDED             int64\n",
       "CITY                   object\n",
       "ARENA                  object\n",
       "ARENACAPACITY         float64\n",
       "OWNER                  object\n",
       "GENERALMANAGER         object\n",
       "HEADCOACH              object\n",
       "DLEAGUEAFFILIATION     object\n",
       "dtype: object"
      ]
     },
     "execution_count": 9,
     "metadata": {},
     "output_type": "execute_result"
    }
   ],
   "source": [
    "all_seasons.dtypes"
   ]
  },
  {
   "cell_type": "markdown",
   "id": "0c5809f0",
   "metadata": {},
   "source": [
    "1.2 Überprüfung auf fehlende Werte"
   ]
  },
  {
   "cell_type": "code",
   "execution_count": 14,
   "id": "09ed63e0-e79a-42d6-ab49-788ead6e6322",
   "metadata": {},
   "outputs": [
    {
     "name": "stdout",
     "output_type": "stream",
     "text": [
      "Anzahl der fehlenden Werte pro Spalte (Games Details):\n",
      "GAME_ID                   0\n",
      "TEAM_ID                   0\n",
      "TEAM_ABBREVIATION         0\n",
      "TEAM_CITY                 0\n",
      "PLAYER_ID                 0\n",
      "PLAYER_NAME               0\n",
      "NICKNAME             615591\n",
      "START_POSITION       412863\n",
      "COMMENT              558939\n",
      "MIN                  109690\n",
      "FGM                  109690\n",
      "FGA                  109690\n",
      "FG_PCT               109690\n",
      "FG3M                 109690\n",
      "FG3A                 109690\n",
      "FG3_PCT              109690\n",
      "FTM                  109690\n",
      "FTA                  109690\n",
      "FT_PCT               109690\n",
      "OREB                 109690\n",
      "DREB                 109690\n",
      "REB                  109690\n",
      "AST                  109690\n",
      "STL                  109690\n",
      "BLK                  109690\n",
      "TO                   109690\n",
      "PF                   109690\n",
      "PTS                  109690\n",
      "PLUS_MINUS           133351\n",
      "dtype: int64\n",
      "\n",
      "Anzahl der fehlenden Werte pro Spalte (Teams):\n",
      "LEAGUE_ID             0\n",
      "TEAM_ID               0\n",
      "MIN_YEAR              0\n",
      "MAX_YEAR              0\n",
      "ABBREVIATION          0\n",
      "NICKNAME              0\n",
      "YEARFOUNDED           0\n",
      "CITY                  0\n",
      "ARENA                 0\n",
      "ARENACAPACITY         4\n",
      "OWNER                 0\n",
      "GENERALMANAGER        0\n",
      "HEADCOACH             0\n",
      "DLEAGUEAFFILIATION    0\n",
      "dtype: int64\n",
      "\n",
      "Anzahl der fehlenden Werte pro Spalte (Player):\n",
      "PLAYER_NAME    0\n",
      "TEAM_ID        0\n",
      "PLAYER_ID      0\n",
      "SEASON         0\n",
      "dtype: int64\n",
      "\n",
      "Anzahl der fehlenden Werte pro Spalte (Ranking):\n",
      "TEAM_ID               0\n",
      "LEAGUE_ID             0\n",
      "SEASON_ID             0\n",
      "STANDINGSDATE         0\n",
      "CONFERENCE            0\n",
      "TEAM                  0\n",
      "G                     0\n",
      "W                     0\n",
      "L                     0\n",
      "W_PCT                 0\n",
      "HOME_RECORD           0\n",
      "ROAD_RECORD           0\n",
      "RETURNTOPLAY     206352\n",
      "dtype: int64\n",
      "\n",
      "Anzahl der fehlenden Werte pro Spalte (Games):\n",
      "GAME_DATE_EST        0\n",
      "GAME_ID              0\n",
      "GAME_STATUS_TEXT     0\n",
      "HOME_TEAM_ID         0\n",
      "VISITOR_TEAM_ID      0\n",
      "SEASON               0\n",
      "TEAM_ID_home         0\n",
      "PTS_home            99\n",
      "FG_PCT_home         99\n",
      "FT_PCT_home         99\n",
      "FG3_PCT_home        99\n",
      "AST_home            99\n",
      "REB_home            99\n",
      "TEAM_ID_away         0\n",
      "PTS_away            99\n",
      "FG_PCT_away         99\n",
      "FT_PCT_away         99\n",
      "FG3_PCT_away        99\n",
      "AST_away            99\n",
      "REB_away            99\n",
      "HOME_TEAM_WINS       0\n",
      "dtype: int64\n"
     ]
    }
   ],
   "source": [
    "# Überprüfung auf fehlende Werte\n",
    "missing_games_details = games_details.isnull().sum()\n",
    "missing_teams = teams.isnull().sum()\n",
    "missing_players = players.isnull().sum()\n",
    "missing_ranking = ranking.isnull().sum()\n",
    "missing_games = games.isnull().sum()\n",
    "    \n",
    "\n",
    "# Ausgabe der Spalten mit fehlenden Werten\n",
    "print(\"Anzahl der fehlenden Werte pro Spalte (Games Details):\")\n",
    "print(missing_games_details)\n",
    "\n",
    "print(\"\\nAnzahl der fehlenden Werte pro Spalte (Teams):\")\n",
    "print(missing_teams)\n",
    "\n",
    "print(\"\\nAnzahl der fehlenden Werte pro Spalte (Player):\")\n",
    "print(missing_players)\n",
    "\n",
    "print(\"\\nAnzahl der fehlenden Werte pro Spalte (Ranking):\")\n",
    "print(missing_ranking)\n",
    "\n",
    "print(\"\\nAnzahl der fehlenden Werte pro Spalte (Games):\")\n",
    "print(missing_teams)\n"
   ]
  },
  {
   "cell_type": "markdown",
   "id": "49cc8b63",
   "metadata": {},
   "source": [
    "1.3 Ergänzung fehlender Werte"
   ]
  },
  {
   "cell_type": "code",
   "execution_count": null,
   "id": "310356e6-da0c-42ae-ba17-3668090f0e12",
   "metadata": {},
   "outputs": [],
   "source": [
    "# alle fehlenden Werte in games_details werden ersetzt durch:\n",
    "# für Start Position wird der Wert NaN angeben --> dytpe ist String\n",
    "games_details.loc[games_details[\"START_POSITION\"].isnull(),\"START_POSITION\"] = \"NaN\""
   ]
  },
  {
   "cell_type": "code",
   "execution_count": 18,
   "id": "c397d394",
   "metadata": {},
   "outputs": [
    {
     "data": {
      "text/plain": [
       "GAME_ID                   0\n",
       "TEAM_ID                   0\n",
       "TEAM_ABBREVIATION         0\n",
       "TEAM_CITY                 0\n",
       "PLAYER_ID                 0\n",
       "PLAYER_NAME               0\n",
       "START_POSITION            0\n",
       "MIN                  109690\n",
       "FGM                  109690\n",
       "FGA                  109690\n",
       "FG_PCT               109690\n",
       "FG3M                 109690\n",
       "FG3A                 109690\n",
       "FG3_PCT              109690\n",
       "FTM                  109690\n",
       "FTA                  109690\n",
       "FT_PCT               109690\n",
       "OREB                 109690\n",
       "DREB                 109690\n",
       "REB                  109690\n",
       "AST                  109690\n",
       "STL                  109690\n",
       "BLK                  109690\n",
       "TO                   109690\n",
       "PF                   109690\n",
       "PTS                  109690\n",
       "PLUS_MINUS           133351\n",
       "dtype: int64"
      ]
     },
     "execution_count": 18,
     "metadata": {},
     "output_type": "execute_result"
    }
   ],
   "source": [
    "games_details.isnull().sum()"
   ]
  }
 ],
 "metadata": {
  "kernelspec": {
   "display_name": "Python 3 (ipykernel)",
   "language": "python",
   "name": "python3"
  },
  "language_info": {
   "codemirror_mode": {
    "name": "ipython",
    "version": 3
   },
   "file_extension": ".py",
   "mimetype": "text/x-python",
   "name": "python",
   "nbconvert_exporter": "python",
   "pygments_lexer": "ipython3",
   "version": "3.12.7"
  }
 },
 "nbformat": 4,
 "nbformat_minor": 5
}
