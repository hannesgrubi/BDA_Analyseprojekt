{
 "cells": [
  {
   "cell_type": "code",
   "execution_count": 2,
   "id": "f5b1d7a9-1c26-4e98-9f20-1be303ada0ee",
   "metadata": {},
   "outputs": [],
   "source": [
    "import numpy as np\n",
    "import pandas as pd\n",
    "import scipy.stats as stats\n",
    "import matplotlib.pyplot as plt\n",
    "import seaborn as sns"
   ]
  },
  {
   "cell_type": "markdown",
   "id": "6c5ed115",
   "metadata": {},
   "source": [
    "Datensätze einspielen & prüfen.\n",
    "- Bei Datensatz: \"games_details.csv\" konnten die Datentypen nicht richtig eingelesen werden. --> wurden als \"object\" eingelesen\n",
    "- Aus diesem Grund wurden diese manuell übergeben --> auf \"string\""
   ]
  },
  {
   "cell_type": "code",
   "execution_count": 3,
   "id": "396964b8-8f7f-4ac0-a1dd-a454013af689",
   "metadata": {},
   "outputs": [],
   "source": [
    "# NBA games data\n",
    "games = pd.read_csv(\"data/NBA games data/games.csv\", sep=',', decimal='.')\n",
    "games_details = pd.read_csv(\"data/NBA games data/games_details.csv\", sep=',', decimal='.', dtype= {\"TEAM_ABBREVIATION\": \"string\",\"TEAM_CITY\": \"string\", \"PLAYER_NAME\": \"string\", \"NICKNAME\": \"string\", \"START_POSITION\": \"string\", \"COMMENT\": \"string\"})\n",
    "players = pd.read_csv(\"data/NBA games data/players.csv\", sep=',', decimal='.')\n",
    "ranking = pd.read_csv(\"data/NBA games data/ranking.csv\", sep=',', decimal='.')\n",
    "teams = pd.read_csv(\"data/NBA games data/teams.csv\", sep=',', decimal='.')\n",
    "\n",
    "# NBA Player\n",
    "all_seasons = pd.read_csv(\"data/NBA games data/teams.csv\", sep=',', decimal='.')"
   ]
  },
  {
   "cell_type": "markdown",
   "id": "6dced2d9",
   "metadata": {},
   "source": [
    "- Überprüfung aller Datentypen des jeweiligen Datensatzes"
   ]
  },
  {
   "cell_type": "code",
   "execution_count": 4,
   "id": "4c5c5191",
   "metadata": {},
   "outputs": [
    {
     "data": {
      "text/plain": [
       "GAME_DATE_EST        object\n",
       "GAME_ID               int64\n",
       "GAME_STATUS_TEXT     object\n",
       "HOME_TEAM_ID          int64\n",
       "VISITOR_TEAM_ID       int64\n",
       "SEASON                int64\n",
       "TEAM_ID_home          int64\n",
       "PTS_home            float64\n",
       "FG_PCT_home         float64\n",
       "FT_PCT_home         float64\n",
       "FG3_PCT_home        float64\n",
       "AST_home            float64\n",
       "REB_home            float64\n",
       "TEAM_ID_away          int64\n",
       "PTS_away            float64\n",
       "FG_PCT_away         float64\n",
       "FT_PCT_away         float64\n",
       "FG3_PCT_away        float64\n",
       "AST_away            float64\n",
       "REB_away            float64\n",
       "HOME_TEAM_WINS        int64\n",
       "dtype: object"
      ]
     },
     "execution_count": 4,
     "metadata": {},
     "output_type": "execute_result"
    }
   ],
   "source": [
    "games.dtypes"
   ]
  },
  {
   "cell_type": "code",
   "execution_count": 5,
   "id": "48e8e485-9ea4-4b9d-9cf7-f674a94c3585",
   "metadata": {},
   "outputs": [
    {
     "data": {
      "text/plain": [
       "GAME_ID                       int64\n",
       "TEAM_ID                       int64\n",
       "TEAM_ABBREVIATION    string[python]\n",
       "TEAM_CITY            string[python]\n",
       "PLAYER_ID                     int64\n",
       "PLAYER_NAME          string[python]\n",
       "NICKNAME             string[python]\n",
       "START_POSITION       string[python]\n",
       "COMMENT              string[python]\n",
       "MIN                          object\n",
       "FGM                         float64\n",
       "FGA                         float64\n",
       "FG_PCT                      float64\n",
       "FG3M                        float64\n",
       "FG3A                        float64\n",
       "FG3_PCT                     float64\n",
       "FTM                         float64\n",
       "FTA                         float64\n",
       "FT_PCT                      float64\n",
       "OREB                        float64\n",
       "DREB                        float64\n",
       "REB                         float64\n",
       "AST                         float64\n",
       "STL                         float64\n",
       "BLK                         float64\n",
       "TO                          float64\n",
       "PF                          float64\n",
       "PTS                         float64\n",
       "PLUS_MINUS                  float64\n",
       "dtype: object"
      ]
     },
     "execution_count": 5,
     "metadata": {},
     "output_type": "execute_result"
    }
   ],
   "source": [
    "games_details.dtypes"
   ]
  },
  {
   "cell_type": "code",
   "execution_count": 6,
   "id": "06e61cc3",
   "metadata": {},
   "outputs": [
    {
     "data": {
      "text/plain": [
       "PLAYER_NAME    object\n",
       "TEAM_ID         int64\n",
       "PLAYER_ID       int64\n",
       "SEASON          int64\n",
       "dtype: object"
      ]
     },
     "execution_count": 6,
     "metadata": {},
     "output_type": "execute_result"
    }
   ],
   "source": [
    "players.dtypes"
   ]
  },
  {
   "cell_type": "code",
   "execution_count": 7,
   "id": "8989f3df",
   "metadata": {},
   "outputs": [
    {
     "data": {
      "text/plain": [
       "TEAM_ID            int64\n",
       "LEAGUE_ID          int64\n",
       "SEASON_ID          int64\n",
       "STANDINGSDATE     object\n",
       "CONFERENCE        object\n",
       "TEAM              object\n",
       "G                  int64\n",
       "W                  int64\n",
       "L                  int64\n",
       "W_PCT            float64\n",
       "HOME_RECORD       object\n",
       "ROAD_RECORD       object\n",
       "RETURNTOPLAY     float64\n",
       "dtype: object"
      ]
     },
     "execution_count": 7,
     "metadata": {},
     "output_type": "execute_result"
    }
   ],
   "source": [
    "ranking.dtypes"
   ]
  },
  {
   "cell_type": "code",
   "execution_count": 8,
   "id": "b158b351",
   "metadata": {},
   "outputs": [
    {
     "data": {
      "text/plain": [
       "LEAGUE_ID               int64\n",
       "TEAM_ID                 int64\n",
       "MIN_YEAR                int64\n",
       "MAX_YEAR                int64\n",
       "ABBREVIATION           object\n",
       "NICKNAME               object\n",
       "YEARFOUNDED             int64\n",
       "CITY                   object\n",
       "ARENA                  object\n",
       "ARENACAPACITY         float64\n",
       "OWNER                  object\n",
       "GENERALMANAGER         object\n",
       "HEADCOACH              object\n",
       "DLEAGUEAFFILIATION     object\n",
       "dtype: object"
      ]
     },
     "execution_count": 8,
     "metadata": {},
     "output_type": "execute_result"
    }
   ],
   "source": [
    "teams.dtypes"
   ]
  },
  {
   "cell_type": "code",
   "execution_count": 9,
   "id": "25187d34",
   "metadata": {},
   "outputs": [
    {
     "data": {
      "text/plain": [
       "LEAGUE_ID               int64\n",
       "TEAM_ID                 int64\n",
       "MIN_YEAR                int64\n",
       "MAX_YEAR                int64\n",
       "ABBREVIATION           object\n",
       "NICKNAME               object\n",
       "YEARFOUNDED             int64\n",
       "CITY                   object\n",
       "ARENA                  object\n",
       "ARENACAPACITY         float64\n",
       "OWNER                  object\n",
       "GENERALMANAGER         object\n",
       "HEADCOACH              object\n",
       "DLEAGUEAFFILIATION     object\n",
       "dtype: object"
      ]
     },
     "execution_count": 9,
     "metadata": {},
     "output_type": "execute_result"
    }
   ],
   "source": [
    "all_seasons.dtypes"
   ]
  },
  {
   "cell_type": "code",
   "execution_count": 10,
   "id": "09ed63e0-e79a-42d6-ab49-788ead6e6322",
   "metadata": {},
   "outputs": [
    {
     "name": "stdout",
     "output_type": "stream",
     "text": [
      "Anzahl der fehlenden Werte pro Spalte (Games Details):\n",
      "GAME_ID                   0\n",
      "TEAM_ID                   0\n",
      "TEAM_ABBREVIATION         0\n",
      "TEAM_CITY                 0\n",
      "PLAYER_ID                 0\n",
      "PLAYER_NAME               0\n",
      "NICKNAME             615591\n",
      "START_POSITION       412863\n",
      "COMMENT              558939\n",
      "MIN                  109690\n",
      "FGM                  109690\n",
      "FGA                  109690\n",
      "FG_PCT               109690\n",
      "FG3M                 109690\n",
      "FG3A                 109690\n",
      "FG3_PCT              109690\n",
      "FTM                  109690\n",
      "FTA                  109690\n",
      "FT_PCT               109690\n",
      "OREB                 109690\n",
      "DREB                 109690\n",
      "REB                  109690\n",
      "AST                  109690\n",
      "STL                  109690\n",
      "BLK                  109690\n",
      "TO                   109690\n",
      "PF                   109690\n",
      "PTS                  109690\n",
      "PLUS_MINUS           133351\n",
      "dtype: int64\n",
      "\n",
      "Anzahl der fehlenden Werte pro Spalte (Teams):\n",
      "LEAGUE_ID             0\n",
      "TEAM_ID               0\n",
      "MIN_YEAR              0\n",
      "MAX_YEAR              0\n",
      "ABBREVIATION          0\n",
      "NICKNAME              0\n",
      "YEARFOUNDED           0\n",
      "CITY                  0\n",
      "ARENA                 0\n",
      "ARENACAPACITY         4\n",
      "OWNER                 0\n",
      "GENERALMANAGER        0\n",
      "HEADCOACH             0\n",
      "DLEAGUEAFFILIATION    0\n",
      "dtype: int64\n",
      "\n",
      "Anzahl der fehlenden Werte pro Spalte (Player):\n",
      "PLAYER_NAME    0\n",
      "TEAM_ID        0\n",
      "PLAYER_ID      0\n",
      "SEASON         0\n",
      "dtype: int64\n",
      "\n",
      "Anzahl der fehlenden Werte pro Spalte (Ranking):\n",
      "TEAM_ID               0\n",
      "LEAGUE_ID             0\n",
      "SEASON_ID             0\n",
      "STANDINGSDATE         0\n",
      "CONFERENCE            0\n",
      "TEAM                  0\n",
      "G                     0\n",
      "W                     0\n",
      "L                     0\n",
      "W_PCT                 0\n",
      "HOME_RECORD           0\n",
      "ROAD_RECORD           0\n",
      "RETURNTOPLAY     206352\n",
      "dtype: int64\n",
      "\n",
      "Anzahl der fehlenden Werte pro Spalte (Games):\n",
      "GAME_DATE_EST        0\n",
      "GAME_ID              0\n",
      "GAME_STATUS_TEXT     0\n",
      "HOME_TEAM_ID         0\n",
      "VISITOR_TEAM_ID      0\n",
      "SEASON               0\n",
      "TEAM_ID_home         0\n",
      "PTS_home            99\n",
      "FG_PCT_home         99\n",
      "FT_PCT_home         99\n",
      "FG3_PCT_home        99\n",
      "AST_home            99\n",
      "REB_home            99\n",
      "TEAM_ID_away         0\n",
      "PTS_away            99\n",
      "FG_PCT_away         99\n",
      "FT_PCT_away         99\n",
      "FG3_PCT_away        99\n",
      "AST_away            99\n",
      "REB_away            99\n",
      "HOME_TEAM_WINS       0\n",
      "dtype: int64\n"
     ]
    }
   ],
   "source": [
    "# Überprüfung auf fehlende Werte\n",
    "missing_games_details = games_details.isnull().sum()\n",
    "missing_teams = teams.isnull().sum()\n",
    "missing_players = players.isnull().sum()\n",
    "missing_ranking = ranking.isnull().sum()\n",
    "missing_games = games.isnull().sum()\n",
    "    \n",
    "\n",
    "# Ausgabe der Spalten mit fehlenden Werten\n",
    "print(\"Anzahl der fehlenden Werte pro Spalte (Games Details):\")\n",
    "print(missing_games_details)\n",
    "\n",
    "print(\"\\nAnzahl der fehlenden Werte pro Spalte (Teams):\")\n",
    "print(missing_teams)\n",
    "\n",
    "print(\"\\nAnzahl der fehlenden Werte pro Spalte (Player):\")\n",
    "print(missing_players)\n",
    "\n",
    "print(\"\\nAnzahl der fehlenden Werte pro Spalte (Ranking):\")\n",
    "print(missing_ranking)\n",
    "\n",
    "print(\"\\nAnzahl der fehlenden Werte pro Spalte (Games):\")\n",
    "print(missing_games)\n"
   ]
  },
  {
   "cell_type": "code",
   "execution_count": 14,
   "id": "310356e6-da0c-42ae-ba17-3668090f0e12",
   "metadata": {},
   "outputs": [
    {
     "name": "stdout",
     "output_type": "stream",
     "text": [
      "Zeilen mit mindestens einem fehlenden Wert:\n",
      "    LEAGUE_ID     TEAM_ID  MIN_YEAR  MAX_YEAR ABBREVIATION  NICKNAME  \\\n",
      "2           0  1610612740      2002      2019          NOP  Pelicans   \n",
      "12          0  1610612751      1976      2019          BKN      Nets   \n",
      "16          0  1610612755      1949      2019          PHI     76ers   \n",
      "17          0  1610612756      1968      2019          PHX      Suns   \n",
      "\n",
      "    YEARFOUNDED          CITY                       ARENA  ARENACAPACITY  \\\n",
      "2          2002   New Orleans        Smoothie King Center            NaN   \n",
      "12         1976      Brooklyn             Barclays Center            NaN   \n",
      "16         1949  Philadelphia          Wells Fargo Center            NaN   \n",
      "17         1968       Phoenix  Talking Stick Resort Arena            NaN   \n",
      "\n",
      "            OWNER  GENERALMANAGER       HEADCOACH     DLEAGUEAFFILIATION  \n",
      "2      Tom Benson  Trajan Langdon    Alvin Gentry           No Affiliate  \n",
      "12       Joe Tsai      Sean Marks  Kenny Atkinson       Long Island Nets  \n",
      "16  Joshua Harris     Elton Brand     Brett Brown    Delaware Blue Coats  \n",
      "17  Robert Sarver     James Jones  Monty Williams  Northern Arizona Suns  \n"
     ]
    }
   ],
   "source": [
    "# Auswahl aller Zeilen mit mindestens einem fehlenden Wert\n",
    "rows_missing_values_teams = teams[teams.isnull().any(axis=1)]\n",
    "\n",
    "# Ausgabe der Zeilen mit fehlenden Werten\n",
    "print(\"Zeilen mit mindestens einem fehlenden Wert:\")\n",
    "print(rows_missing_values_teams)"
   ]
  },
  {
   "cell_type": "code",
   "execution_count": 16,
   "id": "e57520a3-94f6-419a-a648-9efe895c4f19",
   "metadata": {},
   "outputs": [
    {
     "name": "stdout",
     "output_type": "stream",
     "text": [
      "Zeilen mit mindestens einem fehlenden Wert:\n",
      "      GAME_DATE_EST   GAME_ID GAME_STATUS_TEXT  HOME_TEAM_ID  VISITOR_TEAM_ID  \\\n",
      "19175    2003-10-24  10300116            Final    1610612753       1610612762   \n",
      "19176    2003-10-24  10300108            Final    1610612737       1610612764   \n",
      "19177    2003-10-24  10300109            Final    1610612738       1610612751   \n",
      "19178    2003-10-24  10300113            Final    1610612759       1610612745   \n",
      "19179    2003-10-24  10300112            Final    1610612749       1610612765   \n",
      "...             ...       ...              ...           ...              ...   \n",
      "19269    2003-10-09  10300019            Final    1610612743       1610612756   \n",
      "19270    2003-10-09  10300022            Final    1610612757       1610612758   \n",
      "19271    2003-10-08  10300013            Final    1610612759       1610612763   \n",
      "19278    2003-10-08  10300015            Final    1610612747       1610612744   \n",
      "19279    2003-10-07  10300006            Final    1610612747       1610612744   \n",
      "\n",
      "       SEASON  TEAM_ID_home  PTS_home  FG_PCT_home  FT_PCT_home  ...  \\\n",
      "19175    2003    1610612753       NaN          NaN          NaN  ...   \n",
      "19176    2003    1610612737       NaN          NaN          NaN  ...   \n",
      "19177    2003    1610612738       NaN          NaN          NaN  ...   \n",
      "19178    2003    1610612759       NaN          NaN          NaN  ...   \n",
      "19179    2003    1610612749       NaN          NaN          NaN  ...   \n",
      "...       ...           ...       ...          ...          ...  ...   \n",
      "19269    2003    1610612743       NaN          NaN          NaN  ...   \n",
      "19270    2003    1610612757       NaN          NaN          NaN  ...   \n",
      "19271    2003    1610612759       NaN          NaN          NaN  ...   \n",
      "19278    2003    1610612747       NaN          NaN          NaN  ...   \n",
      "19279    2003    1610612747       NaN          NaN          NaN  ...   \n",
      "\n",
      "       AST_home  REB_home  TEAM_ID_away  PTS_away  FG_PCT_away  FT_PCT_away  \\\n",
      "19175       NaN       NaN    1610612762       NaN          NaN          NaN   \n",
      "19176       NaN       NaN    1610612764       NaN          NaN          NaN   \n",
      "19177       NaN       NaN    1610612751       NaN          NaN          NaN   \n",
      "19178       NaN       NaN    1610612745       NaN          NaN          NaN   \n",
      "19179       NaN       NaN    1610612765       NaN          NaN          NaN   \n",
      "...         ...       ...           ...       ...          ...          ...   \n",
      "19269       NaN       NaN    1610612756       NaN          NaN          NaN   \n",
      "19270       NaN       NaN    1610612758       NaN          NaN          NaN   \n",
      "19271       NaN       NaN    1610612763       NaN          NaN          NaN   \n",
      "19278       NaN       NaN    1610612744       NaN          NaN          NaN   \n",
      "19279       NaN       NaN    1610612744       NaN          NaN          NaN   \n",
      "\n",
      "       FG3_PCT_away  AST_away  REB_away  HOME_TEAM_WINS  \n",
      "19175           NaN       NaN       NaN               0  \n",
      "19176           NaN       NaN       NaN               0  \n",
      "19177           NaN       NaN       NaN               0  \n",
      "19178           NaN       NaN       NaN               0  \n",
      "19179           NaN       NaN       NaN               0  \n",
      "...             ...       ...       ...             ...  \n",
      "19269           NaN       NaN       NaN               0  \n",
      "19270           NaN       NaN       NaN               0  \n",
      "19271           NaN       NaN       NaN               0  \n",
      "19278           NaN       NaN       NaN               0  \n",
      "19279           NaN       NaN       NaN               0  \n",
      "\n",
      "[99 rows x 21 columns]\n"
     ]
    }
   ],
   "source": [
    "# Auswahl aller Zeilen mit mindestens einem fehlenden Wert\n",
    "rows_missing_values_games = games[games.isnull().any(axis=1)]\n",
    "\n",
    "# Ausgabe der Zeilen mit fehlenden Werten\n",
    "print(\"Zeilen mit mindestens einem fehlenden Wert:\")\n",
    "print(rows_missing_values_games)"
   ]
  },
  {
   "cell_type": "code",
   "execution_count": 17,
   "id": "6cebe950-f3ba-44f7-8fe8-5c33135b2b26",
   "metadata": {},
   "outputs": [],
   "source": [
    "\n",
    "# Export der Zeilen mit fehlenden Werten in eine CSV-Datei\n",
    "rows_missing_values_games.to_csv('missing_values_rows_games.csv', index=False)"
   ]
  },
  {
   "cell_type": "code",
   "execution_count": null,
   "id": "804ca02d-359e-40f5-b0df-16c74ea75a6f",
   "metadata": {},
   "outputs": [],
   "source": []
  }
 ],
 "metadata": {
  "kernelspec": {
   "display_name": "Python 3 (ipykernel)",
   "language": "python",
   "name": "python3"
  },
  "language_info": {
   "codemirror_mode": {
    "name": "ipython",
    "version": 3
   },
   "file_extension": ".py",
   "mimetype": "text/x-python",
   "name": "python",
   "nbconvert_exporter": "python",
   "pygments_lexer": "ipython3",
   "version": "3.12.7"
  }
 },
 "nbformat": 4,
 "nbformat_minor": 5
}
